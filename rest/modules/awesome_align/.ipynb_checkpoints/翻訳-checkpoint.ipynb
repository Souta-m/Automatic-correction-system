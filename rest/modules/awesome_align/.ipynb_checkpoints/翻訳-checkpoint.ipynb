{
 "cells": [
  {
   "cell_type": "code",
   "execution_count": 3,
   "metadata": {},
   "outputs": [
    {
     "ename": "NameError",
     "evalue": "name 'translator' is not defined",
     "output_type": "error",
     "traceback": [
      "\u001b[1;31m---------------------------------------------------------------------------\u001b[0m",
      "\u001b[1;31mNameError\u001b[0m                                 Traceback (most recent call last)",
      "\u001b[1;32m<ipython-input-3-e53430b1956d>\u001b[0m in \u001b[0;36m<module>\u001b[1;34m\u001b[0m\n\u001b[0;32m      1\u001b[0m \u001b[1;32mfrom\u001b[0m \u001b[0mgoogletrans\u001b[0m \u001b[1;32mimport\u001b[0m \u001b[0mTranslator\u001b[0m\u001b[1;33m\u001b[0m\u001b[1;33m\u001b[0m\u001b[0m\n\u001b[1;32m----> 2\u001b[1;33m \u001b[0mtranslator\u001b[0m\u001b[1;33m.\u001b[0m\u001b[0mtranslate\u001b[0m\u001b[1;33m(\u001b[0m\u001b[1;34m'안녕하세요.'\u001b[0m\u001b[1;33m)\u001b[0m\u001b[1;33m\u001b[0m\u001b[1;33m\u001b[0m\u001b[0m\n\u001b[0m\u001b[0;32m      3\u001b[0m \u001b[0mtext1\u001b[0m\u001b[1;33m=\u001b[0m\u001b[0mtranslator\u001b[0m\u001b[1;33m.\u001b[0m\u001b[0mtranslate\u001b[0m\u001b[1;33m(\u001b[0m\u001b[1;34m'안녕하세요.'\u001b[0m\u001b[1;33m,\u001b[0m \u001b[0mdest\u001b[0m\u001b[1;33m=\u001b[0m\u001b[1;34m'ja'\u001b[0m\u001b[1;33m)\u001b[0m\u001b[1;33m\u001b[0m\u001b[1;33m\u001b[0m\u001b[0m\n\u001b[0;32m      4\u001b[0m \u001b[0mprint\u001b[0m\u001b[1;33m(\u001b[0m\u001b[0mtext1\u001b[0m\u001b[1;33m.\u001b[0m\u001b[0mtext\u001b[0m\u001b[1;33m)\u001b[0m\u001b[1;33m\u001b[0m\u001b[1;33m\u001b[0m\u001b[0m\n",
      "\u001b[1;31mNameError\u001b[0m: name 'translator' is not defined"
     ]
    }
   ],
   "source": [
    "from googletrans import Translator\n",
    "translator.translate('안녕하세요.')\n",
    "text1=translator.translate('안녕하세요.', dest='ja')\n",
    "print(text1.text)"
   ]
  },
  {
   "cell_type": "code",
   "execution_count": 1,
   "metadata": {},
   "outputs": [
    {
     "ename": "ModuleNotFoundError",
     "evalue": "No module named 'googletrans'",
     "output_type": "error",
     "traceback": [
      "\u001b[1;31m---------------------------------------------------------------------------\u001b[0m",
      "\u001b[1;31mModuleNotFoundError\u001b[0m                       Traceback (most recent call last)",
      "\u001b[1;32m<ipython-input-1-cf1e89788d8f>\u001b[0m in \u001b[0;36m<module>\u001b[1;34m\u001b[0m\n\u001b[1;32m----> 1\u001b[1;33m \u001b[1;32mimport\u001b[0m \u001b[0mgoogletrans\u001b[0m \u001b[1;32mas\u001b[0m \u001b[0mgo\u001b[0m\u001b[1;33m\u001b[0m\u001b[1;33m\u001b[0m\u001b[0m\n\u001b[0m\u001b[0;32m      2\u001b[0m \u001b[0mprint\u001b[0m\u001b[1;33m(\u001b[0m\u001b[0mgo\u001b[0m\u001b[1;33m.\u001b[0m\u001b[0m__version__\u001b[0m\u001b[1;33m)\u001b[0m\u001b[1;33m\u001b[0m\u001b[1;33m\u001b[0m\u001b[0m\n\u001b[0;32m      3\u001b[0m \u001b[1;32mimport\u001b[0m \u001b[0msys\u001b[0m\u001b[1;33m\u001b[0m\u001b[1;33m\u001b[0m\u001b[0m\n\u001b[0;32m      4\u001b[0m \u001b[1;33m\u001b[0m\u001b[0m\n\u001b[0;32m      5\u001b[0m \u001b[0mprint\u001b[0m\u001b[1;33m(\u001b[0m\u001b[0msys\u001b[0m\u001b[1;33m.\u001b[0m\u001b[0mversion_info\u001b[0m\u001b[1;33m)\u001b[0m\u001b[1;33m\u001b[0m\u001b[1;33m\u001b[0m\u001b[0m\n",
      "\u001b[1;31mModuleNotFoundError\u001b[0m: No module named 'googletrans'"
     ]
    }
   ],
   "source": [
    "import googletrans as go\n",
    "print(go.__version__)\n",
    "import sys\n",
    "\n",
    "print(sys.version_info)"
   ]
  },
  {
   "cell_type": "code",
   "execution_count": 3,
   "metadata": {},
   "outputs": [],
   "source": [
    "#IBN\n",
    "import json\n",
    "from ibm_watson import LanguageTranslatorV3\n",
    "from ibm_cloud_sdk_core.authenticators import IAMAuthenticator\n",
    "import itertools\n",
    "\n",
    "authenticator = IAMAuthenticator('CI8w-GHKqIOShOXysD_QVedbI15kLTRAvqjCgV7qdbfO')\n",
    "language_translator = LanguageTranslatorV3(\n",
    "    version='2018-05-01',\n",
    "    authenticator=authenticator\n",
    ")\n",
    "\n",
    "language_translator.set_service_url('https://api.us-south.language-translator.watson.cloud.ibm.com/instances/f30636b5-f973-4cb2-954d-f838c432c2f4')\n",
    "\n"
   ]
  },
  {
   "cell_type": "code",
   "execution_count": 4,
   "metadata": {},
   "outputs": [
    {
     "name": "stdout",
     "output_type": "stream",
     "text": [
      "{\n",
      "  \"translations\": [\n",
      "    {\n",
      "      \"translation\": \"こんにちは、今日はどうですか ?\"\n",
      "    }\n",
      "  ],\n",
      "  \"word_count\": 7,\n",
      "  \"character_count\": 25\n",
      "}\n",
      "こんにちは、今日はどうですか ?\n"
     ]
    }
   ],
   "source": [
    "translation = language_translator.translate(\n",
    "    text='Hello, how are you today?',\n",
    "    model_id='en-ja').get_result()\n",
    "print(json.dumps(translation, indent=2, ensure_ascii=False))\n",
    "print(translation['translations'][0]['translation'])"
   ]
  },
  {
   "cell_type": "code",
   "execution_count": 18,
   "metadata": {},
   "outputs": [
    {
     "data": {
      "text/plain": [
       "['translation']"
      ]
     },
     "execution_count": 18,
     "metadata": {},
     "output_type": "execute_result"
    }
   ],
   "source": [
    "list(itertools.chain.from_iterable(translation['translations']))"
   ]
  },
  {
   "cell_type": "code",
   "execution_count": 6,
   "metadata": {},
   "outputs": [],
   "source": [
    "tmp=translation['translations']"
   ]
  },
  {
   "cell_type": "code",
   "execution_count": 7,
   "metadata": {},
   "outputs": [
    {
     "name": "stdout",
     "output_type": "stream",
     "text": [
      "<class 'list'>\n",
      "こんにちは、今日はどうですか ?\n"
     ]
    }
   ],
   "source": [
    "print(type(tmp))\n",
    "result=tmp[0]\n",
    "print(result['translation'])"
   ]
  },
  {
   "cell_type": "code",
   "execution_count": 12,
   "metadata": {},
   "outputs": [
    {
     "name": "stdout",
     "output_type": "stream",
     "text": [
      "<Response [401]>\n",
      "{'error': {'code': 401000, 'message': 'The request is not authorized because credentials are missing or invalid.'}}\n"
     ]
    }
   ],
   "source": [
    "import os, requests, uuid, json\n",
    " \n",
    "# 取得したキーを入力\n",
    "subscription_key = '6694e367ea6443818dc28a5142f15cb0'\n",
    "# 基本的にこのままでOK\n",
    "endpoint         = 'https://api.cognitive.microsofttranslator.com/'\n",
    " \n",
    "# 翻訳元の言語を指定 en = English\n",
    "fromLang = 'en'\n",
    "# 翻訳先の言語を指定 ja = Japanese\n",
    "toLang = 'ja'\n",
    "# 翻訳したい文字列を入力\n",
    "txt = 'if America is to be a great nation, this must become true.'\n",
    " \n",
    "# パラメーターを指定\n",
    "path = 'translate?api-version=3.0'\n",
    "params = '&from=' + fromLang + '&to=' + toLang\n",
    "constructed_url = endpoint + path + params\n",
    " \n",
    "# ヘッダーを指定\n",
    "headers = {\n",
    "    'Ocp-Apim-Subscription-Key': subscription_key,\n",
    "    'Content-type': 'application/json',\n",
    "    'X-ClientTraceId': str(uuid.uuid4())\n",
    "}\n",
    " \n",
    "# JSON形式でリクエストを行う\n",
    "body = [{'text' : txt}]\n",
    "# POSTリクエスト\n",
    "request = requests.post(constructed_url, headers=headers, json=body)\n",
    "print(request)\n",
    "# JSONデコード\n",
    "response = request.json()\n",
    "print(response)\n",
    "#翻訳された言語をプリント\n",
    "#print('翻訳：⇒  ' + response[0]['translations'][0]['text'])\n",
    " "
   ]
  },
  {
   "cell_type": "code",
   "execution_count": 14,
   "metadata": {},
   "outputs": [
    {
     "name": "stdout",
     "output_type": "stream",
     "text": [
      "[\n",
      "    {\n",
      "        \"translations\": [\n",
      "            {\n",
      "                \"text\": \"ハローワールド！\",\n",
      "                \"to\": \"ja\"\n",
      "            }\n",
      "        ]\n",
      "    }\n",
      "]\n"
     ]
    }
   ],
   "source": [
    "import requests, uuid, json\n",
    "\n",
    "# Add your subscription key and endpoint\n",
    "subscription_key = \"6694e367ea6443818dc28a5142f15cb0\"\n",
    "endpoint = \"https://api.cognitive.microsofttranslator.com\"\n",
    "\n",
    "# Add your location, also known as region. The default is global.\n",
    "# This is required if using a Cognitive Services resource.\n",
    "location = \"japaneast\"\n",
    "\n",
    "path = '/translate'\n",
    "constructed_url = endpoint + path\n",
    "\n",
    "params = {\n",
    "    'api-version': '3.0',\n",
    "    'from': 'en',\n",
    "    'to': 'ja'\n",
    "}\n",
    "constructed_url = endpoint + path\n",
    "\n",
    "headers = {\n",
    "    'Ocp-Apim-Subscription-Key': subscription_key,\n",
    "    'Ocp-Apim-Subscription-Region': location,\n",
    "    'Content-type': 'application/json',\n",
    "    'X-ClientTraceId': str(uuid.uuid4())\n",
    "}\n",
    "\n",
    "# You can pass more than one object in body.\n",
    "body = [{\n",
    "    'text': 'Hello World!'\n",
    "}]\n",
    "\n",
    "request = requests.post(constructed_url, params=params, headers=headers, json=body)\n",
    "response = request.json()\n",
    "\n",
    "print(json.dumps(response, sort_keys=True, ensure_ascii=False, indent=4, separators=(',', ': ')))"
   ]
  },
  {
   "cell_type": "code",
   "execution_count": 19,
   "metadata": {},
   "outputs": [
    {
     "name": "stdout",
     "output_type": "stream",
     "text": [
      "ハローワールド！\n"
     ]
    }
   ],
   "source": [
    "print(response[0]['translations'][0]['text'])"
   ]
  },
  {
   "cell_type": "code",
   "execution_count": 43,
   "metadata": {},
   "outputs": [],
   "source": [
    "import requests\n",
    "# ここはご自分で発行されたKEYを入れてください\n",
    "YOUR_API_KEY = 'b76272fc-acfd-d168-8005-0e38246ad871:fx'\n",
    "# 翻訳したい入力テキスト\n",
    "#TEXT='こんにちは。'\n",
    "TEXT = '音を犠牲に全てを伝えられるなら、圧縮された別れの歌。'"
   ]
  },
  {
   "cell_type": "code",
   "execution_count": 48,
   "metadata": {},
   "outputs": [],
   "source": [
    "params = {\n",
    "            \"auth_key\": YOUR_API_KEY,\n",
    "            \"text\": TEXT,\n",
    "            \"source_lang\": 'JA', # 入力テキストの言語を日本語に設定（JPではなくJAなので注意）\n",
    "            \"target_lang\": 'EN'  # 出力テキストの言語を英語に設定\n",
    "        }\n",
    "# パラメータと一緒にPOSTする\n",
    "request = requests.post(\"https://api-free.deepl.com/v2/translate\", data=params)"
   ]
  },
  {
   "cell_type": "code",
   "execution_count": 49,
   "metadata": {},
   "outputs": [
    {
     "name": "stdout",
     "output_type": "stream",
     "text": [
      "<Response [200]>\n"
     ]
    }
   ],
   "source": [
    "print(request)"
   ]
  },
  {
   "cell_type": "code",
   "execution_count": 51,
   "metadata": {},
   "outputs": [
    {
     "name": "stdout",
     "output_type": "stream",
     "text": [
      "A compressed farewell song, if you can tell all at the expense of sound.\n"
     ]
    }
   ],
   "source": [
    "result = request.json()\n",
    "#print(result)\n",
    "print(result[\"translations\"][0][\"text\"])"
   ]
  },
  {
   "cell_type": "code",
   "execution_count": null,
   "metadata": {},
   "outputs": [],
   "source": []
  }
 ],
 "metadata": {
  "kernelspec": {
   "display_name": "Python 3 (ipykernel)",
   "language": "python",
   "name": "python3"
  },
  "language_info": {
   "codemirror_mode": {
    "name": "ipython",
    "version": 3
   },
   "file_extension": ".py",
   "mimetype": "text/x-python",
   "name": "python",
   "nbconvert_exporter": "python",
   "pygments_lexer": "ipython3",
   "version": "3.7.2"
  }
 },
 "nbformat": 4,
 "nbformat_minor": 2
}
